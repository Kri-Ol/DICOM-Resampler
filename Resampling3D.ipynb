{
 "cells": [
  {
   "cell_type": "markdown",
   "metadata": {},
   "source": [
    "# DICOM images resampling, 3D"
   ]
  },
  {
   "cell_type": "markdown",
   "metadata": {},
   "source": [
    "This notebook is dedicated to the 3D resampling of the DICOM patient images."
   ]
  },
  {
   "cell_type": "markdown",
   "metadata": {},
   "source": [
    "Prerequisutes:\n",
    "- Python 3.7.x, mine from Anaconda (5.3.1 x64 as of now, https://www.anaconda.com/download/)\n",
    "- conda update python numpy matplotlib scipy pandas bokeh\n",
    "- conda update pip\n",
    "- pip install pydicom (v1.2 as of now)\n",
    "- conda install plotly\n",
    "- conda install scikit-image (shall be in full Anaconda, if miniConda is installed, you have to install it)"
   ]
  },
  {
   "cell_type": "code",
   "execution_count": null,
   "metadata": {},
   "outputs": [],
   "source": [
    "%matplotlib inline\n",
    "\n",
    "import numpy as np\n",
    "import pydicom\n",
    "from pathlib import Path\n",
    "import matplotlib.pyplot as plt\n",
    "import scipy.ndimage\n",
    "from skimage import morphology\n",
    "from skimage import measure\n",
    "from skimage.transform import resize\n",
    "import copy\n",
    "import uuid"
   ]
  },
  {
   "cell_type": "code",
   "execution_count": null,
   "metadata": {},
   "outputs": [],
   "source": [
    "X = 0\n",
    "Y = 1\n",
    "Z = 2"
   ]
  },
  {
   "cell_type": "markdown",
   "metadata": {},
   "source": [
    "List directory and check and count files"
   ]
  },
  {
   "cell_type": "code",
   "execution_count": null,
   "metadata": {},
   "outputs": [],
   "source": [
    "data_path = \"D:/Patients/QT\"\n",
    "output_path = working_path = \".\"\n",
    "output_dir  = \"Out\"\n",
    "\n",
    "# here is new spacing to be resampled to\n",
    "desired_spacing = [1.06445312, 1.06445312, 0.79]\n",
    "\n",
    "# new patient name and ID, not to mess with existing ones,\n",
    "# if None will be left unchanged\n",
    "PatientName = \"TEST^PAT\" # = None\n",
    "PatientID   = \"7366473\"  # = None\n",
    "\n",
    "# new patient image orientation, if None will be left unchanged\n",
    "theta = np.pi\n",
    "phi   = 0.0\n",
    "PatientImageOrientation = [np.cos(theta), np.sin(theta)*np.cos(phi), np.sin(theta)*np.sin(phi),\n",
    "                           -np.cos(theta-0.5*np.pi), np.sin(theta-0.5*np.pi)*np.cos(phi+np.pi), np.sin(theta-0.5*np.pi)*np.sin(phi+np.pi)]\n",
    "PatientImageOrientation = np.round(PatientImageOrientation, 7) # round to float precision\n",
    "print(PatientImageOrientation)\n",
    "\n",
    "l = list(Path(data_path).glob(\"*.dcm\"))\n",
    "\n",
    "# Print out the first 5 file names to verify we're in the right folder.\n",
    "print(\"Total of {0} DICOM images.\\nFirst 5 filenames:\".format(len(l)))\n",
    "for p in l[:5]:\n",
    "    print(f\"{p}\")"
   ]
  },
  {
   "cell_type": "markdown",
   "metadata": {},
   "source": [
    "Load all scans, set thickness"
   ]
  },
  {
   "cell_type": "code",
   "execution_count": null,
   "metadata": {},
   "outputs": [],
   "source": [
    "def load_scans(path):\n",
    "    \"\"\"Here we assume equidistant in Z slices,\n",
    "       sort output by InstanceNumber\"\"\"\n",
    "    p = Path(path)\n",
    "    slices = [pydicom.dcmread(str(Path(path) / s)) for s in p.iterdir() if s.is_file()]\n",
    "    slices.sort(key = lambda x: int(x.InstanceNumber))\n",
    "    try:\n",
    "        slice_thickness = np.fabs(slices[0].ImagePositionPatient[2] - slices[1].ImagePositionPatient[2])\n",
    "    except:\n",
    "        slice_thickness = np.fabs(slices[0].SliceLocation - slices[1].SliceLocation)\n",
    "        \n",
    "    #for s in slices: # assign all slices the same thickness\n",
    "    #    s.SliceThickness = slice_thickness\n",
    "        \n",
    "    return slices\n",
    "\n",
    "id = 0\n",
    "patient = load_scans(data_path)\n",
    "\n",
    "# ok, put all images together into 3d matrix, test images dimensions as well\n",
    "images  = np.stack([s.pixel_array for s in patient], axis = Z) # so final set of images would be (512,512,168)\n",
    "print(f\"All images together: {images.shape}\")\n",
    "print(patient[0]) # info from the first slice"
   ]
  },
  {
   "cell_type": "code",
   "execution_count": null,
   "metadata": {},
   "outputs": [],
   "source": [
    "print(patient[167]) # last slice"
   ]
  },
  {
   "cell_type": "markdown",
   "metadata": {},
   "source": [
    "Some good checks on what we got there"
   ]
  },
  {
   "cell_type": "code",
   "execution_count": null,
   "metadata": {},
   "outputs": [],
   "source": [
    "sth = patient[0].SliceThickness\n",
    "print(f\"Slice Thickness: {sth}\")\n",
    "px0 = patient[0].PixelSpacing[X]\n",
    "px1 = patient[0].PixelSpacing[Y]\n",
    "print(f\"Pixel Spacing (row, col): ({px0}, {px1})\")"
   ]
  },
  {
   "cell_type": "markdown",
   "metadata": {},
   "source": [
    "More checks - slopes, intercepts, slice positions etc"
   ]
  },
  {
   "cell_type": "code",
   "execution_count": null,
   "metadata": {},
   "outputs": [],
   "source": [
    "for k, slice in enumerate(patient):\n",
    "    minpix = np.min(slice.pixel_array.astype(np.int16))\n",
    "    maxpix = np.max(slice.pixel_array.astype(np.int16))\n",
    "    if minpix < 0:\n",
    "        print(f\"Negative value discovered: {k}\")\n",
    "        break\n",
    "    if maxpix > 4095: # 12 bits scanner\n",
    "        print(f\"12-Positive value discovered:{k}\")\n",
    "        break\n",
    "        \n",
    "# now test for different pixel sizes\n",
    "vx_prev = patient[0].PixelSpacing[X]\n",
    "vy_prev = patient[0].PixelSpacing[Y]\n",
    "\n",
    "for k, slice in enumerate(patient):\n",
    "    vx = slice.PixelSpacing[X]\n",
    "    vy = slice.PixelSpacing[Y]\n",
    "    if np.fabs(vx - vx_prev) > 0.001:\n",
    "        print(f\"X pixel values are different:{k}\")\n",
    "        break\n",
    "    if np.fabs(vy - vy_prev) > 0.001:\n",
    "        print(f\"Y pixel values are different:{k}\")\n",
    "        break\n",
    "    vy_prev = vy\n",
    "    vx_prev = vx\n",
    "    \n",
    "# now test for slope/intercept\n",
    "slope_prev = patient[0].RescaleSlope\n",
    "intrc_prev = patient[0].RescaleIntercept\n",
    "for k, slice in enumerate(patient):\n",
    "    slope = slice.RescaleSlope\n",
    "    intrc = slice.RescaleIntercept\n",
    "    if np.fabs(slope - slope_prev) > 0.001:\n",
    "        print(f\"Slope values are different:{k}\")\n",
    "        break\n",
    "    if np.fabs(intrc - intrc_prev) > 0.001:\n",
    "        print(f\"Intercept values are different:{k}\")\n",
    "        break\n",
    "    intrc_prev = intrc\n",
    "    slope_prev = slope\n",
    "    \n",
    "\n",
    "# now test for position/thickness\n",
    "patientpos_prev = None\n",
    "sliceths_prev   = None\n",
    "sliceloc_prev   = None\n",
    "for k, slice in enumerate(patient):\n",
    "    sliceths = slice.SliceThickness\n",
    "    sliceloc = slice.SliceLocation\n",
    "    \n",
    "    if np.fabs( sliceloc - slice.ImagePositionPatient[Z] ) > 0.001:\n",
    "        print(f\"Slice position and patient position are different:{k}\")\n",
    "        break\n",
    "        \n",
    "    if k != 0:\n",
    "        t1 = np.fabs(slice.ImagePositionPatient[Z] - patientpos_prev[Z]) # might be negative\n",
    "        t2 = sliceths \n",
    "        t3 = np.fabs(sliceloc - sliceloc_prev) # might be negative\n",
    "        \n",
    "        if np.fabs(t1 - t2) > 0.001:\n",
    "            print(f\"Thickness from SliceThickness and PatientPosition are different:{k}\")\n",
    "        if np.fabs(t1 - t3) > 0.001:\n",
    "            print(f\"Thickness from SliceThickness and SliceLocation are different:{k}\")\n",
    "        \n",
    "    patientpos_prev = slice.ImagePositionPatient\n",
    "    sliceths_prev   = sliceths\n",
    "    sliceloc_prev   = sliceloc"
   ]
  },
  {
   "cell_type": "code",
   "execution_count": null,
   "metadata": {},
   "outputs": [],
   "source": [
    "np.save(str(Path(output_path)/f\"fullimages_{id}.npy\"), images)"
   ]
  },
  {
   "cell_type": "code",
   "execution_count": null,
   "metadata": {},
   "outputs": [],
   "source": [
    "file_used = str(Path(output_path)/f\"fullimages_{id}.npy\")\n",
    "imgs_to_process = np.load(file_used).astype(np.float64) \n",
    "\n",
    "plt.hist(imgs_to_process.flatten(), bins=50, color='c')\n",
    "plt.xlabel(\"Voxel values\")\n",
    "plt.ylabel(\"Frequency\")\n",
    "plt.show()"
   ]
  },
  {
   "cell_type": "code",
   "execution_count": null,
   "metadata": {},
   "outputs": [],
   "source": [
    "id = 0\n",
    "imgs_to_process = np.load(file_used)\n",
    "\n",
    "def sample_stack(stack, rows=9, cols=10, start_with=0, show_every=2):\n",
    "    fig,ax = plt.subplots(rows, cols, figsize=[24, 24])\n",
    "    last = False\n",
    "    for ir in range(rows):\n",
    "        for ic in range(cols):\n",
    "            ind = start_with + (ir*cols + ic)*show_every\n",
    "            if ind > stack.shape[Z] - 1:\n",
    "                ind = stack.shape[Z] - 1\n",
    "                last = True\n",
    "            \n",
    "            ax[ir, ic].set_title(f\"slice {ind}\")\n",
    "            ax[ir, ic].imshow(stack[:,:,ind], cmap = \"gray\")\n",
    "            ax[ir, ic].axis(\"off\")\n",
    "            if last:\n",
    "                break\n",
    "    plt.show()\n",
    "\n",
    "sample_stack(imgs_to_process)"
   ]
  },
  {
   "cell_type": "code",
   "execution_count": null,
   "metadata": {},
   "outputs": [],
   "source": [
    "id = 0\n",
    "imgs_to_process = np.load(file_used)\n",
    "\n",
    "def resample2d(image, scan, new_spacing):\n",
    "    # Determine current pixel spacing\n",
    "    spacing = map(float, [scan[0].PixelSpacing[X], scan[0].PixelSpacing[Y], scan[0].SliceThickness])\n",
    "    spacing = np.array(list(spacing))\n",
    "\n",
    "    resize_x    = spacing[X] / new_spacing[X]\n",
    "    new_shape_x = np.round(image.shape[X] * resize_x)\n",
    "    resize_x    = float(new_shape_x) / float(image.shape[X])\n",
    "    sx = spacing[X] / resize_x\n",
    "\n",
    "    resize_y    = spacing[Y] / new_spacing[Y]\n",
    "    new_shape_y = np.round(image.shape[Y] * resize_y)\n",
    "    resize_y    = new_shape_y / image.shape[Y]\n",
    "    sy = spacing[Y] / resize_y\n",
    "    \n",
    "    image = scipy.ndimage.interpolation.zoom(image, (resize_x, resize_y, 1.0), order=1)\n",
    "    \n",
    "    return (image, (sx, sy))\n",
    "\n",
    "def resample3d(image, scan, new_spacing):\n",
    "    # Determine current pixel spacing\n",
    "    spacing = map(float, [scan[0].PixelSpacing[X], scan[0].PixelSpacing[Y], scan[0].SliceThickness])\n",
    "    spacing = np.array(list(spacing))\n",
    "    \n",
    "    resize_x    = spacing[X] / new_spacing[X]\n",
    "    new_shape_x = np.round(image.shape[X] * resize_x)\n",
    "    resize_x    = float(new_shape_x) / float(image.shape[X])\n",
    "    sx = spacing[X] / resize_x\n",
    "\n",
    "    resize_y    = spacing[Y] / new_spacing[Y]\n",
    "    new_shape_y = np.round(image.shape[Y] * resize_y)\n",
    "    resize_y    = new_shape_y / image.shape[Y]\n",
    "    sy = spacing[Y] / resize_y\n",
    "\n",
    "    resize_z    = spacing[Z] / new_spacing[Z]\n",
    "    new_shape_z = np.round(image.shape[Z] * resize_z)\n",
    "    resize_z    = float(new_shape_z) / float(image.shape[Z])\n",
    "    sz = spacing[Z] / resize_z\n",
    "    \n",
    "    image = scipy.ndimage.interpolation.zoom(image, (resize_x, resize_y, resize_z), order=1)\n",
    "    \n",
    "    return (image, (sx, sy, sz))\n",
    "\n",
    "print(f\"Shape before resampling\\t{imgs_to_process.shape}\")\n",
    "imgs_after_resamp, spacing = resample3d(imgs_to_process, patient, desired_spacing)\n",
    "print(f\"Shape after resampling:\\t{imgs_after_resamp.shape}\")\n",
    "print(f\"New spacing: {spacing}\")"
   ]
  },
  {
   "cell_type": "code",
   "execution_count": null,
   "metadata": {},
   "outputs": [],
   "source": [
    "p = Path(output_dir)\n",
    "if not p.is_dir():\n",
    "    p.mkdir(parents = True, exist_ok = True)    \n",
    "\n",
    "l  = imgs_after_resamp.shape[Z]\n",
    "\n",
    "zbeg = patient[0].ImagePositionPatient[Z]\n",
    "zsgn = 1.0 if patient[0].ImagePositionPatient[Z] < patient[1].ImagePositionPatient[Z] else -1.0\n",
    "zthk = np.round(spacing[Z], decimals=2)\n",
    "\n",
    "# print(f\"{zbeg} {zsgn} {zthk}\")\n",
    "\n",
    "if l == len(patient): # same number of slices\n",
    "    for k, slice in enumerate(patient):\n",
    "        q = imgs_after_resamp[:, :, k]\n",
    "        slice.PixelData = q.tobytes()\n",
    "        slice.PixelSpacing[X] = np.round(spacing[X], decimals=2)\n",
    "        slice.PixelSpacing[Y] = np.round(spacing[Y], decimals=2)\n",
    "        slice.Rows, slice.Columns = q.shape\n",
    "        slice.PatientName = slice.PatientName if PatientName is None else PatientName\n",
    "        slice.PatientID   = slice.PatientID if PatientID is None else PatientID\n",
    "        if PatientImageOrientation is not None:\n",
    "            slice.ImageOrientationPatient[0] = PatientImageOrientation[0]\n",
    "            slice.ImageOrientationPatient[1] = PatientImageOrientation[1]\n",
    "            slice.ImageOrientationPatient[2] = PatientImageOrientation[2]\n",
    "            slice.ImageOrientationPatient[3] = PatientImageOrientation[3]\n",
    "            slice.ImageOrientationPatient[4] = PatientImageOrientation[4]\n",
    "            slice.ImageOrientationPatient[5] = PatientImageOrientation[5]\n",
    "            \n",
    "        #slice.SliceThickness          = zthk\n",
    "        \n",
    "        #loc = zbeg + float(k) * zsgn * zthk\n",
    "        #slice.ImagePositionPatient[Z] = loc\n",
    "        #slice.SliceLocation           = loc                \n",
    "\n",
    "        fname = Path(output_dir)/(slice.SeriesInstanceUID + \"_\" + str(slice.InstanceNumber) + \".dcm\")\n",
    "        pydicom.dcmwrite(str(fname), slice, False)\n",
    "        \n",
    "else: # we added/removed slices\n",
    "    rc = list()\n",
    "    for k in range(0, l):\n",
    "        slice = None\n",
    "        if k < len(patient):\n",
    "            slice = copy.deepcopy(patient[k])\n",
    "        else:\n",
    "            slice = copy.deepcopy(patient[-1])\n",
    "            \n",
    "            pos = slice.SOPInstanceUID.rfind(\".\")\n",
    "            uid = str(int(uuid.uuid4().hex, 16))\n",
    "            slice.SOPInstanceUID = slice.SOPInstanceUID[:pos+1] + uid\n",
    "        \n",
    "        q = imgs_after_resamp[:, :, k]\n",
    "        slice.PixelData = q.tobytes()\n",
    "        slice.PixelSpacing[X] = np.round(spacing[X], decimals=2)\n",
    "        slice.PixelSpacing[Y] = np.round(spacing[Y], decimals=2)\n",
    "        slice.Rows, slice.Columns = q.shape\n",
    "        slice.PatientName = slice.PatientName if PatientName is None else PatientName\n",
    "        slice.PatientID   = slice.PatientID if PatientID is None else PatientID\n",
    "        if PatientImageOrientation is not None:\n",
    "            slice.ImageOrientationPatient[0] = PatientImageOrientation[0]\n",
    "            slice.ImageOrientationPatient[1] = PatientImageOrientation[1]\n",
    "            slice.ImageOrientationPatient[2] = PatientImageOrientation[2]\n",
    "            slice.ImageOrientationPatient[3] = PatientImageOrientation[3]\n",
    "            slice.ImageOrientationPatient[4] = PatientImageOrientation[4]\n",
    "            slice.ImageOrientationPatient[5] = PatientImageOrientation[5]\n",
    "        \n",
    "        slice.SliceThickness          = zthk\n",
    "        \n",
    "        loc = zbeg + float(k) * zsgn * zthk\n",
    "        slice.ImagePositionPatient[Z] = loc\n",
    "        slice.SliceLocation           = loc\n",
    "        \n",
    "        slice.InstanceNumber = k + 1\n",
    "        \n",
    "        fname = Path(output_dir)/(slice.SeriesInstanceUID + \"_\" + str(slice.InstanceNumber) + \".dcm\")\n",
    "        pydicom.dcmwrite(str(fname), slice, False)\n",
    "        \n",
    "print(f\"Done! {l} slices were written\")"
   ]
  },
  {
   "cell_type": "markdown",
   "metadata": {},
   "source": [
    "Check output directory for images"
   ]
  },
  {
   "cell_type": "markdown",
   "metadata": {},
   "source": [
    "### References"
   ]
  },
  {
   "cell_type": "markdown",
   "metadata": {},
   "source": [
    "Inspired by https://www.raddq.com/dicom-processing-segmentation-visualization-in-python/"
   ]
  }
 ],
 "metadata": {
  "kernelspec": {
   "display_name": "Python 3",
   "language": "python",
   "name": "python3"
  },
  "language_info": {
   "codemirror_mode": {
    "name": "ipython",
    "version": 3
   },
   "file_extension": ".py",
   "mimetype": "text/x-python",
   "name": "python",
   "nbconvert_exporter": "python",
   "pygments_lexer": "ipython3",
   "version": "3.7.1"
  }
 },
 "nbformat": 4,
 "nbformat_minor": 2
}
